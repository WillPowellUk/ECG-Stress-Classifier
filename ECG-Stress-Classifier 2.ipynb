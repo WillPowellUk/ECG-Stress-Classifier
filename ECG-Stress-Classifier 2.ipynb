{
 "cells": [
  {
   "attachments": {},
   "cell_type": "markdown",
   "metadata": {},
   "source": [
    "# Stress Classifier\n",
    "## Overview\n",
    "1. [Select Database](#1-select-database)\n",
    "2. [Import Libraries and Load Useful Utilities](#2-import-libraries-and-load-useful-utilities)\n",
    "3. [Data Extraction](#3-data-extraction): Downloads and sorts through databases.\n",
    "4. [Pre-processing](#4-pre-processing): filtering and signal cleaning.\n",
    "5. [Feature Extraction](#5-feature-extraction): R-R peaks, PQRST peaks, EDR, in addition to mean, kurtosis etc.\n",
    "6. [Feature Selection](#6-feature-selection): Visualise labelled feature distribution, select desired labels etc.\n",
    "7. [Linear Classification](#7-linear-classification): Linear classification including Random Forests, LDA etc."
   ]
  },
  {
   "attachments": {},
   "cell_type": "markdown",
   "metadata": {},
   "source": [
    "## 1. Select Database\n",
    "Select between:\n",
    "* [Spider-Fearful ECG](https://doi.org/10.1371/journal.pone.0231517) \n",
    "* BrainPatch ECG"
   ]
  },
  {
   "cell_type": "code",
   "execution_count": 1,
   "metadata": {
    "execution": {
     "iopub.execute_input": "2023-03-28T14:15:56.740564Z",
     "iopub.status.busy": "2023-03-28T14:15:56.740124Z",
     "iopub.status.idle": "2023-03-28T14:15:56.746295Z",
     "shell.execute_reply": "2023-03-28T14:15:56.745553Z"
    }
   },
   "outputs": [],
   "source": [
    "DATABASE = 'Spider'"
   ]
  },
  {
   "attachments": {},
   "cell_type": "markdown",
   "metadata": {},
   "source": [
    "## 2. Import Libraries and Load Useful Utilities\n",
    "Please run `pip install -r requirements.txt` first"
   ]
  },
  {
   "cell_type": "code",
   "execution_count": 2,
   "metadata": {
    "execution": {
     "iopub.execute_input": "2023-03-28T14:15:56.748730Z",
     "iopub.status.busy": "2023-03-28T14:15:56.748407Z",
     "iopub.status.idle": "2023-03-28T14:15:57.623281Z",
     "shell.execute_reply": "2023-03-28T14:15:57.623003Z"
    }
   },
   "outputs": [],
   "source": [
    "# Import necessary modules\n",
    "import pandas as pd\n",
    "import numpy as np\n",
    "import neurokit2 as nk\n",
    "import matplotlib.pyplot as plt\n",
    "import os\n",
    "import sys\n",
    "import subprocess\n",
    "import warnings\n",
    "import seaborn as sns\n",
    "import math\n",
    "from sklearn.impute import SimpleImputer\n",
    "from sklearn.preprocessing import StandardScaler\n",
    "from sklearn.model_selection import train_test_split, RepeatedStratifiedKFold, cross_val_score\n",
    "from sklearn.discriminant_analysis import LinearDiscriminantAnalysis\n",
    "from sklearn.datasets import make_classification\n",
    "from sklearn.ensemble import RandomForestClassifier\n",
    "from sklearn.metrics import accuracy_score, confusion_matrix, ConfusionMatrixDisplay\n",
    "from itertools import product\n",
    "from typing import List"
   ]
  },
  {
   "cell_type": "code",
   "execution_count": 3,
   "metadata": {
    "execution": {
     "iopub.execute_input": "2023-03-28T14:15:57.624839Z",
     "iopub.status.busy": "2023-03-28T14:15:57.624743Z",
     "iopub.status.idle": "2023-03-28T14:15:57.631111Z",
     "shell.execute_reply": "2023-03-28T14:15:57.630859Z"
    }
   },
   "outputs": [],
   "source": [
    "# Useful Utilities\n",
    "class Utilities():\n",
    "    def __init__(self):    \n",
    "        pass\n",
    "\n",
    "    def progress_bar(current_message, current, total, bar_length=20):\n",
    "        fraction = current / total\n",
    "        arrow = int(fraction * bar_length - 1) * '-' + '>'\n",
    "        padding = int(bar_length - len(arrow)) * ' '\n",
    "        ending = '\\n' if current == total else '\\r'\n",
    "        print(f'{current_message}: [{arrow}{padding}] {int(fraction*100)}%', end=ending)\n",
    "\n",
    "\n",
    "    def check_csv_exists(folder_path, index):\n",
    "        # read the CSV file into a dataframe and append to the list\n",
    "        filename = os.path.join(folder_path, f'df_{index}.csv')\n",
    "        try:\n",
    "            df = pd.read_csv(filename)\n",
    "        except FileNotFoundError:\n",
    "            return False\n",
    "        return filename\n",
    "\n",
    "\n",
    "    def load_dataframe(filename):\n",
    "        # read the CSV file into a dataframe and append to the list\n",
    "        df = pd.read_csv(filename)\n",
    "        return df\n",
    "    \n",
    "\n",
    "    def save_dataframe_list(list_of_dfs:List[pd.DataFrame], folder_path:str, file_name:str):\n",
    "        # create directoy if necessary\n",
    "        os.makedirs(folder_path, exist_ok=True) \n",
    "        for i, df in enumerate(list_of_dfs):\n",
    "            file_path = f\"{folder_path}/{file_name}_{i}.csv\"\n",
    "            df.to_csv(file_path, index=False)\n",
    "\n",
    "\n",
    "    def save_dataframe(df:pd.DataFrame, folder_path:str, file_name:str):\n",
    "        # create directoy if necessary\n",
    "        os.makedirs(folder_path, exist_ok=True) \n",
    "        df.to_csv(f'{folder_path}/{file_name}.csv', index=False)"
   ]
  },
  {
   "cell_type": "code",
   "execution_count": 4,
   "metadata": {},
   "outputs": [],
   "source": [
    "# For bigger plots\n",
    "plt.rcParams['figure.figsize'] = [10, 6]  \n",
    "plt.rcParams['font.size'] = 14"
   ]
  },
  {
   "attachments": {},
   "cell_type": "markdown",
   "metadata": {},
   "source": [
    "## 3. Data Extraction\n",
    "* Downloads data, normalizes timeframe, attaches labels, and saves sorted data."
   ]
  },
  {
   "cell_type": "code",
   "execution_count": 5,
   "metadata": {
    "execution": {
     "iopub.execute_input": "2023-03-28T14:15:57.632504Z",
     "iopub.status.busy": "2023-03-28T14:15:57.632310Z",
     "iopub.status.idle": "2023-03-28T14:15:57.638674Z",
     "shell.execute_reply": "2023-03-28T14:15:57.638402Z"
    }
   },
   "outputs": [],
   "source": [
    "# This class handles downloading and sorting the Spider database.\n",
    "# Method from this paper https://doi.org/10.1371/journal.pone.0231517\n",
    "class SpiderDataExtraction():\n",
    "    def __init__(self, directory):\n",
    "        self.directory = directory\n",
    "        self.sampling_frequency = 100\n",
    "        self.sorted_ECG = pd.DataFrame(columns=['Timestamp', 'ECG', 'Stress Level'])\n",
    "\n",
    "    \n",
    "    # Downloads and extracts database \n",
    "    def download_data(self):\n",
    "        if sys.platform == 'linux':\n",
    "            url = 'https://physionet.org/files/ecg-spider-clip/1.0.0/'\n",
    "            print(\"Downloading database...this may take a while\")\n",
    "            os.makedirs(self.directory, exist_ok=True)\n",
    "            cmd = f\"wget -r -N -c -np -P {self.directory} {url}\"\n",
    "            subprocess.run(cmd)\n",
    "        else:\n",
    "            sys.exit(\"Unable to download database. If you are running Windows/Mac please download manually via https://physionet.org/content/ecg-spider-clip/1.0.0/\")\n",
    "    \n",
    "\n",
    "    # sorts data from each participant, labelling each ECG recording and appends to one dataframe.\n",
    "    # Following the SB approach in the study.\n",
    "    def sort_data(self):       \n",
    "        directory = self.directory + '/physionet.org/files/ecg-spider-clip/1.0.0/'\n",
    "        \n",
    "        # Exclude VP70 because of noise\n",
    "        sub_directories = ['VP02', 'VP03','VP05','VP06','VP08','VP09','VP11','VP12','VP14','VP15','VP17','VP18','VP20','VP23','VP24','VP26','VP27',\n",
    "                'VP29','VP30','VP32','VP33','VP35','VP36','VP38','VP39','VP41','VP42','VP44','VP45','VP47','VP48','VP50','VP51','VP53',\n",
    "                'VP54','VP56','VP57','VP59','VP61','VP62','VP63','VP64','VP65','VP66','VP68','VP69','VP71','VP72','VP73','VP74',\n",
    "                'VP75','VP76','VP77','VP78','VP79','VP80']\n",
    "        \n",
    "        # Path to Ratings file for all particpants\n",
    "        subjective_ratings_file = f'{self.directory}/Subjective Ratings.txt'\n",
    "\n",
    "        # Read in the subject ratings file (ignore arousal markers, interested in angst)\n",
    "        ratings_df = (\n",
    "            pd.read_csv(subjective_ratings_file, sep='\\t', names=['Subject','Group','Session', '4', '8', '12', '16', 'NA1', 'NA2', 'NA3', 'NA4'], encoding='UTF-16')\n",
    "            .drop(columns=['NA1', 'NA2', 'NA3', 'NA4'])\n",
    "            .iloc[1:]\n",
    "            .reset_index(drop=True)\n",
    "            .astype(int)\n",
    "        )\n",
    "\n",
    "        for index, sub_directory in enumerate(sub_directories):\n",
    "            Utilities.progress_bar('Sorting database', index, len(sub_directories)-1)\n",
    "\n",
    "            # set participant data paths\n",
    "            ECG_file = f'{directory}{sub_directory}/BitalinoECG.txt'\n",
    "            triggers_file = f'{directory}{sub_directory}/Triggers.txt'\n",
    "\n",
    "            # Get participant number\n",
    "            participant_no = int(sub_directory[2:])\n",
    "\n",
    "            # read in particpant ECG raw data file and reorder to get columns Timestamp, ECG \n",
    "            raw_df = pd.read_csv(ECG_file, sep='\\t', names = ['ECG','Timestamp','NA'])\n",
    "            raw_df = raw_df.drop(columns=['NA'])\n",
    "            raw_df = raw_df[['Timestamp', 'ECG']]\n",
    "            \n",
    "            # Read in participant trigger file\n",
    "            triggers_df = pd.read_csv(triggers_file, sep='\\t', names = ['Clip','On','Off'])\n",
    "\n",
    "            # Determine stress levels by correspoding the raw ecg data with the triggers file and the Subjective Ratings file.\n",
    "            # Iterate through the 16 stress clips (first clip is a demo):\n",
    "            for i in range(1, 17):\n",
    "                # Determine row in ratings file\n",
    "                row = ratings_df.loc[ratings_df['Subject'] == participant_no].index[0]\n",
    "\n",
    "                # find stress for the clip in the ratings file\n",
    "                stress_level = ratings_df.iloc[row]['4'] if i <= 4 else ratings_df.iloc[row]['8'] if i <= 8 else ratings_df.iloc[row]['12'] if i <= 12 else ratings_df.iloc[row]['16']\n",
    "\n",
    "                # convert stress level to Low, Medium or High (1-3)\n",
    "                stress_level = 2 if (stress_level <= 2) else 3\n",
    "\n",
    "                # Get 60 second slice of ECG data for that clip\n",
    "                clip_start_time = triggers_df.iloc[i]['On']\n",
    "                start_index = raw_df.index[raw_df['Timestamp']>clip_start_time].tolist()[0]\n",
    "                clip_df = raw_df.iloc[start_index:start_index + (self.sampling_frequency * 60)].copy(deep=False)\n",
    "                clip_df['Stress Level'] = stress_level\n",
    "                self.sorted_ECG = pd.concat([self.sorted_ECG, clip_df], axis=0, ignore_index=True)\n",
    "\n",
    "            # Add the last 3 minute resting phase (stress level Low) to the data\n",
    "            rest_start_time = triggers_df.iloc[-1]['On']\n",
    "            start_index = (raw_df['Timestamp'] > rest_start_time).idxmin() + (self.sampling_frequency * 120)\n",
    "            rest_df = raw_df.iloc[start_index: start_index + (self.sampling_frequency * 180)].copy(deep=False)\n",
    "            rest_df.loc[:, 'Stress Level'] = 1\n",
    "            self.sorted_ECG = pd.concat([self.sorted_ECG, rest_df], axis=0, ignore_index=True)\n",
    "\n"
   ]
  },
  {
   "cell_type": "code",
   "execution_count": 6,
   "metadata": {},
   "outputs": [
    {
     "name": "stdout",
     "output_type": "stream",
     "text": [
      "Sorting database: [------------------->] 100%\n"
     ]
    }
   ],
   "source": [
    "if DATABASE == 'Spider':\n",
    "    sde = SpiderDataExtraction('Data/Spider')\n",
    "    # sde.download_data()\n",
    "    sde.sort_data()\n",
    "    Utilities.save_dataframe(sde.sorted_ECG, 'Data/Spider/Dataframes', 'Sorted')"
   ]
  },
  {
   "attachments": {},
   "cell_type": "markdown",
   "metadata": {},
   "source": [
    "## 4. Pre-Processing\n",
    "* Interpolates data to sample rate using timestamps \n",
    "* Semgents data using rolling window with overlap\n",
    "* Cleans data using Neurokit's 5th Order Butterworth filter."
   ]
  },
  {
   "cell_type": "code",
   "execution_count": 7,
   "metadata": {
    "execution": {
     "iopub.execute_input": "2023-03-28T14:15:57.639837Z",
     "iopub.status.busy": "2023-03-28T14:15:57.639761Z",
     "iopub.status.idle": "2023-03-28T14:15:57.644906Z",
     "shell.execute_reply": "2023-03-28T14:15:57.644649Z"
    }
   },
   "outputs": [],
   "source": [
    "# Define PreProcessing Class:\n",
    "# Segments data using rolling window \n",
    "# Cleans data using Neurokit2\n",
    "# Documentation can be found here: https://neuropsychology.github.io/NeuroKit/functions/ecg.html       \n",
    "class PreProcessing():\n",
    "    def __init__(self, sorted_ECG:pd.DataFrame, sampling_frequency:int):\n",
    "        self.sorted_ECG = sorted_ECG\n",
    "        self.sampling_frequency = sampling_frequency\n",
    "        self.preprocessed_ECG = pd.DataFrame(columns=['Timestamp', 'ECG', 'Stress Level'])\n",
    "\n",
    "\n",
    "    # interpolates data to achieve sampling rate\n",
    "    def interpolate(self):\n",
    "        # convert timestamp column to a NumPy array\n",
    "        timestamps = self.sorted_ECG['Timestamp'].to_numpy()\n",
    "\n",
    "        # calculate the time difference between each pair of adjacent timestamps\n",
    "        time_diff = np.diff(timestamps)\n",
    "\n",
    "        # calculate the average sampling rate of the data\n",
    "        sampling_frequency = 1 / np.mean(time_diff)\n",
    "\n",
    "        print(f\"Average sampling rate: {sampling_frequency}\")\n",
    "\n",
    "        # interpolate the data to obtain 100Hz sampling rate\n",
    "        self.sorted_ECG['Timestamp'] = np.arange(timestamps[0], timestamps[-1], 1 / self.sampling_frequency)\n",
    "        self.sorted_ECG['ECG'] = np.interp(self.sorted_ECG['Timestamp'], timestamps, self.sorted_ECG['ECG'])\n",
    "        \n",
    "\n",
    "    # segments data with overlap using rolling window\n",
    "    def segment(self, window_length_s:int, overlap:float):\n",
    "        # convert window_length in seconds to samples\n",
    "        self.window_samples = window_length_s * self.sampling_frequency\n",
    "        # Calculate the step_size as the fraction of the total window samples\n",
    "        step_size = int(self.window_samples * (1-overlap)) \n",
    "\n",
    "        # Initialize starting variables\n",
    "        current_index = 0\n",
    "        current_stressed = self.sorted_ECG['Stress Level'][current_index]\n",
    "\n",
    "        # faster to concatenate at the end \n",
    "        preprocessed_ECG_list = []\n",
    "        \n",
    "        # Loop through the entire dataframe\n",
    "        while current_index < len(self.sorted_ECG['ECG']):  \n",
    "            Utilities.progress_bar('Segmenting data', current_index, len(self.sorted_ECG))\n",
    "            # calculate end index in window and exit if out of bounds          \n",
    "            end_index = current_index + self.window_samples\n",
    "            if (end_index > len(self.sorted_ECG['ECG'])):\n",
    "                break\n",
    "            \n",
    "            # Check if the window overlaps a different label\n",
    "            end_stressed = self.sorted_ECG['Stress Level'][end_index]\n",
    "\n",
    "            # If the next window has a different label, skip to next start of next label\n",
    "            if end_stressed != current_stressed:\n",
    "                while (current_stressed == self.sorted_ECG['Stress Level'][current_index]):\n",
    "                    current_index += 1\n",
    "                current_stressed = end_stressed\n",
    "\n",
    "            # otherwise, add segment to list of pre-processed ECG\n",
    "            else:\n",
    "                # append segment to dataframe\n",
    "                preprocessed_ECG_list.append(self.sorted_ECG.iloc[current_index:current_index + self.window_samples].astype('Float64'))\n",
    "\n",
    "                # Shift the window\n",
    "                current_index += step_size\n",
    "        \n",
    "        self.preprocessed_ECG = pd.concat(preprocessed_ECG_list, axis=0, ignore_index=True).astype('Float64')\n",
    "        Utilities.progress_bar('Segmenting data', current_index, current_index)\n",
    "\n",
    "    def clean(self):\n",
    "        # Clean each sample in the stressed and not stressed data (overwrites original data)\n",
    "        # using method 'neurokit' (0.5 Hz high-pass butterworth filter (order = 5), followed by powerline filtering) but can be changed to other cleaning methods\n",
    "        print(\"Cleaning data...\")\n",
    "        self.preprocessed_ECG['ECG'] = pd.Series(nk.ecg_clean(self.preprocessed_ECG['ECG'], self.sampling_frequency, method='neurokit')).astype('Float64')"
   ]
  },
  {
   "cell_type": "code",
   "execution_count": 8,
   "metadata": {},
   "outputs": [
    {
     "name": "stdout",
     "output_type": "stream",
     "text": [
      "Segmenting data: [------------------->] 100%\n",
      "Cleaning data...\n"
     ]
    }
   ],
   "source": [
    "pp = PreProcessing(sde.sorted_ECG, sde.sampling_frequency)\n",
    "\n",
    "# Timestamps are not valid for Spider database, so should not interpolate.\n",
    "if DATABASE != 'Spider':\n",
    "    pp.interpolate()\n",
    "\n",
    "window_length_s = 10\n",
    "overlap = 0.1\n",
    "pp.segment(window_length_s, overlap)\n",
    "pp.clean()\n",
    "Utilities.save_dataframe(pp.preprocessed_ECG, 'Data/Spider/Dataframes', 'Preprocessed')"
   ]
  },
  {
   "attachments": {},
   "cell_type": "markdown",
   "metadata": {},
   "source": [
    "## 5. Feature Extraction\n",
    "* Extracts features such as HRV time, frequency and non-linear domain, EDR etc."
   ]
  },
  {
   "cell_type": "code",
   "execution_count": 9,
   "metadata": {
    "execution": {
     "iopub.execute_input": "2023-03-28T14:15:57.649031Z",
     "iopub.status.busy": "2023-03-28T14:15:57.648948Z",
     "iopub.status.idle": "2023-03-28T14:15:57.656454Z",
     "shell.execute_reply": "2023-03-28T14:15:57.656197Z"
    }
   },
   "outputs": [],
   "source": [
    "# Main class that extracts features from a dictionary of sorted dataframes and stores to csv\n",
    "class FeatureExtraction():\n",
    "    # takes in cleaned ECG data\n",
    "    def __init__(self, preprocessed_ECG:pd.DataFrame, window_samples:int, sampling_frequency:int):\n",
    "        self.preprocessed_ECG = preprocessed_ECG\n",
    "        self.window_samples = window_samples\n",
    "        self.sampling_frequency = sampling_frequency\n",
    "        self.feature_extracted_ECG = pd.DataFrame()\n",
    "\n",
    "\n",
    "    # Extracts features from ECG using neurokit.\n",
    "    def get_neurokit_features(self, EDR:bool=False, show_plot:bool=False):\n",
    "        index = 0\n",
    "        while index < len(self.preprocessed_ECG['ECG']):\n",
    "            Utilities.progress_bar('Extracting Neurokit Features', index, len(self.preprocessed_ECG['ECG']))\n",
    "\n",
    "            # get segment ECG and stress level from dataframe \n",
    "            segment = self.preprocessed_ECG.iloc[index:index + self.window_samples]['ECG']\n",
    "            stress_level = self.preprocessed_ECG.iloc[index]['Stress Level']\n",
    "            features = pd.DataFrame({'Stress Level': [stress_level]})\n",
    "            \n",
    "            index += self.window_samples\n",
    "\n",
    "            # only show plot once\n",
    "            if index!=0:\n",
    "                self.show_plot = False \n",
    "\n",
    "            # extract R-R peaks\n",
    "            np.seterr(divide=\"ignore\", invalid=\"ignore\")\n",
    "            r_peaks_df = nk.ecg_peaks(segment, sampling_rate=self.sampling_frequency, correct_artifacts=True)[0]\n",
    "            # skip segment if insufficient peaks are detected (otherwise will cause NK error)\n",
    "            if int(r_peaks_df[r_peaks_df == 1].sum().iloc[0]) < 4:\n",
    "                continue\n",
    "\n",
    "            # Extract HRV features from R-R peaks, see https://neuropsychology.github.io/NeuroKit/functions/hrv.html \n",
    "            # compute HRV - time, frequency and nonlinear indices.\n",
    "            warnings.filterwarnings('ignore') # temporarily supress warnings\n",
    "            HRV_time = nk.hrv_time(r_peaks_df, sampling_rate=self.sampling_frequency, show=self.show_plot)\n",
    "            HRV_frequency = nk.hrv_frequency(r_peaks_df, sampling_rate=self.sampling_frequency, show=self.show_plot)\n",
    "            warnings.filterwarnings('default')\n",
    "\n",
    "            # compute Shannon Entropy (SE) using signal symbolization and discretization\n",
    "            # see https://neuropsychology.github.io/NeuroKit/functions/complexity.html#entropy-shannon \n",
    "            SE = nk.entropy_shannon(segment, symbolize='A')[0]\n",
    "            HRV_SE = pd.DataFrame([SE], columns=['HRV_SE'])\n",
    "            # concat to dataframe\n",
    "            features = pd.concat([features, HRV_time, HRV_frequency, HRV_SE], axis=1)\n",
    "            \n",
    "            if EDR:\n",
    "                # Get ECG Derived Respiration (EDR) and add to the data\n",
    "                warnings.filterwarnings('ignore') # temporarily supress warnings\n",
    "                ecg_rate = nk.signal_rate(r_peaks_df, sampling_rate=self.sampling_frequency, desired_length=len(r_peaks_df))\n",
    "                warnings.filterwarnings('default')\n",
    "                EDR_sample = nk.ecg_rsp(ecg_rate, sampling_rate=self.sampling_frequency)\n",
    "                if self.show_plot:\n",
    "                    nk.signalplot(segment)\n",
    "                    nk.signal_plot(EDR_sample)\n",
    "                EDR_Distance = pd.DataFrame(nk.signal_findpeaks(EDR_sample)[\"Distance\"], columns=['EDR_Distance'])\n",
    "                # concat to dataframe\n",
    "                features = pd.concat([features, EDR_Distance], axis=1)\n",
    "\n",
    "            # concat features to main dataframe\n",
    "            self.feature_extracted_ECG = pd.concat([self.feature_extracted_ECG, features], axis=0, ignore_index=True)\n",
    "        Utilities.progress_bar('Extracting Neurokit Features', index, index)\n",
    "\n",
    "                \n"
   ]
  },
  {
   "cell_type": "code",
   "execution_count": 10,
   "metadata": {
    "execution": {
     "iopub.execute_input": "2023-03-28T14:15:57.662551Z",
     "iopub.status.busy": "2023-03-28T14:15:57.662447Z",
     "iopub.status.idle": "2023-03-28T14:15:57.666162Z",
     "shell.execute_reply": "2023-03-28T14:15:57.665929Z"
    }
   },
   "outputs": [
    {
     "name": "stdout",
     "output_type": "stream",
     "text": [
      "Extracting Neurokit Features: [------------------->] 100%\n"
     ]
    }
   ],
   "source": [
    "fe = FeatureExtraction(pp.preprocessed_ECG, pp.window_samples, pp.sampling_frequency)\n",
    "fe.get_neurokit_features(EDR=False, show_plot=True)\n",
    "Utilities.save_dataframe(fe.feature_extracted_ECG, 'Data/Spider/Dataframes', 'Feature Extracted')"
   ]
  },
  {
   "attachments": {},
   "cell_type": "markdown",
   "metadata": {},
   "source": [
    "## 6. Feature Selection:\n",
    "* Select desired features, sanity check the values, and save them to Features directory\n",
    "* Visualise most feature and cross-feature distribution "
   ]
  },
  {
   "cell_type": "code",
   "execution_count": 11,
   "metadata": {
    "execution": {
     "iopub.execute_input": "2023-03-28T14:15:57.646170Z",
     "iopub.status.busy": "2023-03-28T14:15:57.646007Z",
     "iopub.status.idle": "2023-03-28T14:15:57.647802Z",
     "shell.execute_reply": "2023-03-28T14:15:57.647608Z"
    }
   },
   "outputs": [],
   "source": [
    "# Each feature will be an object of FEParameter\n",
    "class FEParameter:\n",
    "    def __init__(self, name:str, min:float=0.0, max:float=9999):\n",
    "        self.name = name\n",
    "        self.min = min\n",
    "        self.max = max"
   ]
  },
  {
   "cell_type": "code",
   "execution_count": 12,
   "metadata": {},
   "outputs": [],
   "source": [
    "# Define FeatureSelection class that is used to visualise and select data\n",
    "class FeatureSelection():\n",
    "    def __init__(self, feature_extracted_ECG):\n",
    "        self.feature_extracted_ECG = feature_extracted_ECG\n",
    "\n",
    "\n",
    "    # desired_features is a list of FEParameter objects  \n",
    "    def select(self, desired_features:List[FEParameter]):\n",
    "        self.selected_features_ECG = self.feature_extracted_ECG[['Stress Level']]\n",
    "        \n",
    "        for feature in desired_features:\n",
    "            out_of_range_count = 0\n",
    "            # Sanity check: check if feature exists\n",
    "            if feature.name in self.feature_extracted_ECG.columns:\n",
    "                # Set value to NaN if it falls outside min and max values.\n",
    "                for i, value in enumerate(self.feature_extracted_ECG[feature.name]):\n",
    "                    if (value < feature.min) or (value > feature.max):\n",
    "                        out_of_range_count += 1\n",
    "                        self.feature_extracted_ECG.loc[i, feature.name] = np.nan\n",
    "                # Add column to new selected features\n",
    "                pd.options.mode.chained_assignment = None\n",
    "                self.selected_features_ECG[feature.name] = self.feature_extracted_ECG[[feature.name]].copy()\n",
    "                pd.options.mode.chained_assignment = 'warn'\n",
    "            else:\n",
    "                print(f'Error: No such feature \"{feature}\" in extracted features')\n",
    "            if out_of_range_count != 0:\n",
    "                print(f'Feature: {feature.name} is out of range {out_of_range_count}/{len(self.feature_extracted_ECG[feature.name])} segments')\n",
    "\n",
    "        \n",
    "    # impute missing values in dataset with mean values of column\n",
    "    def impute(self):\n",
    "        pd.options.mode.chained_assignment = None\n",
    "        self.selected_features_ECG.replace([np.inf, -np.inf], np.nan, inplace=True)\n",
    "        pd.options.mode.chained_assignment = 'warn'\n",
    "        imp = SimpleImputer(strategy='mean')\n",
    "        imp.fit(self.selected_features_ECG)\n",
    "        self.selected_features_ECG = pd.DataFrame(imp.transform(self.selected_features_ECG), columns=self.selected_features_ECG.columns)\n",
    "\n",
    "\n",
    "    def visualise(self, plot_type='pairplot'):\n",
    "        print(\"Generating plot...\")\n",
    "        if plot_type == 'pairplot':         \n",
    "            sns.pairplot(data = self.selected_features_ECG, hue='Stress Level', palette=['green', 'yellow', 'red'])\n",
    "        elif plot_type == 'kdeplot':\n",
    "            # Create a figure with subplots for each feature\n",
    "            subplot_size = math.ceil(math.sqrt(len(self.selected_features_ECG.columns)))\n",
    "            fig = plt.figure(figsize=(20, 8*subplot_size))\n",
    "\n",
    "            # Loop through each feature and add it to a subplot\n",
    "            for i, feature in enumerate(self.selected_features_ECG):\n",
    "                fig.add_subplot(subplot_size, subplot_size, i+1)\n",
    "                sns.kdeplot(x=feature, data=self.selected_features_ECG, hue='Stress Level', common_norm=False, warn_singular=False, palette=['green', 'yellow', 'red'])\n",
    "            plt.show()\n",
    "        else:\n",
    "            print(\"Plot type not recognised. Please choose between pairplot, kdeplot\")"
   ]
  },
  {
   "cell_type": "code",
   "execution_count": 13,
   "metadata": {
    "execution": {
     "iopub.execute_input": "2023-03-28T14:15:57.657717Z",
     "iopub.status.busy": "2023-03-28T14:15:57.657598Z",
     "iopub.status.idle": "2023-03-28T14:15:57.661341Z",
     "shell.execute_reply": "2023-03-28T14:15:57.661082Z"
    }
   },
   "outputs": [],
   "source": [
    "# Desired Features to be selected from Feature Extracted ECG.\n",
    "# See Neurokit2 HRV for more information - https://neuropsychology.github.io/NeuroKit/functions/hrv.html\n",
    "\n",
    "# Minimum and maximum expected HR (beats per min)\n",
    "min_HR = 30\n",
    "max_HR = 200\n",
    "\n",
    "# MinNN: The minimum of the RR intervals (Parent, 2019; Subramaniam, 2022).\n",
    "HRV_MinNN = FEParameter('HRV_MinNN', min=60000.0/max_HR, max=60000.0/min_HR)\n",
    "# MaxNN: The maximum of the RR intervals (Parent, 2019; Subramaniam, 2022).\n",
    "HRV_MaxNN = FEParameter('HRV_MaxNN', min=60000.0/max_HR, max=60000.0/min_HR)\n",
    "# MeanNN: The mean of the RR intervals.\n",
    "HRV_MeanNN = FEParameter('HRV_MeanNN', min=60000.0/max_HR, max=60000.0/min_HR)\n",
    "\n",
    "# SDNN: The standard deviation of the RR intervals.\n",
    "# See https://www.ncbi.nlm.nih.gov/pmc/articles/PMC5624990/ for chosen max value.\n",
    "HRV_SDNN = FEParameter('HRV_SDNN', max=200)\n",
    "# RMSSD: The square root of the mean of the squared successive differences between adjacent RR intervals. \n",
    "# # It is equivalent (although on another scale) to SD1, and therefore it is redundant to report correlations with both (Ciccone, 2017).\n",
    "# See https://help.welltory.com/en/articles/4413231-what-normal-ranges-and-measurement-standards-we-use-to-interpret-your-heart-rate-variability for chosen max value.\n",
    "HRV_RMSSD = FEParameter('HRV_RMSSD', max=107)\n",
    "# The root mean square of successive differences (RMSSD) divided by the mean of the RR intervals (MeanNN).\n",
    "CVSD = FEParameter('HRV_CVSD')\n",
    "# Shannon Entropy\n",
    "HRV_SE = FEParameter('HRV_SE')\n",
    "\n",
    "# pNN20: The proportion of RR intervals greater than 20ms, out of the total number of RR intervals.\n",
    "HRV_pNN20 = FEParameter('HRV_pNN20')\n",
    "# pNN50: The proportion of RR intervals greater than 50ms, out of the total number of RR intervals.\n",
    "HRV_pNN50 = FEParameter('HRV_pNN50')\n",
    "# A geometrical parameter of the HRV, or more specifically, the baseline width of the RR intervals distribution \n",
    "# TINN: obtained by triangular interpolation, where the error of least squares determines the triangle. \n",
    "# It is an approximation of the RR interval distribution.\n",
    "HRV_TINN = FEParameter('HRV_TINN')\n",
    "# HTI: The HRV triangular index, measuring the total number of RR intervals divided by the height of the RR intervals histogram.\n",
    "HRV_HTI = FEParameter('HRV_HTI')\n",
    "\n",
    "# VLF: The spectral power (W/Hz) of very low frequencies (.0033 to .04 Hz).\n",
    "HRV_VLF = FEParameter('HRV_VLF', min=0.0, max=9) # hidden due to use of 0.5 Hz high-pass butterworth filter\n",
    "# LF: The spectral power (W/Hz) of low frequencies (.04 to .15 Hz).\n",
    "HRV_LF = FEParameter('HRV_LF', max=1.00)\n",
    "# HF: The spectral power (W/Hz) of high frequencies (.15 to .4 Hz).\n",
    "HRV_HF = FEParameter('HRV_HF', max=1.00)\n",
    "# LFHF: The ratio obtained by dividing the low frequency power by the high frequency power.\n",
    "HRV_LFHF = FEParameter('HRV_LFHF', max=1.00)"
   ]
  },
  {
   "cell_type": "code",
   "execution_count": 14,
   "metadata": {},
   "outputs": [
    {
     "name": "stdout",
     "output_type": "stream",
     "text": [
      "Feature: HRV_SDNN is out of range 3/6982 segments\n",
      "Feature: HRV_RMSSD is out of range 187/6982 segments\n",
      "Generating plot...\n"
     ]
    },
    {
     "ename": "ValueError",
     "evalue": "Multi-dimensional indexing (e.g. `obj[:, None]`) is no longer supported. Convert to a numpy array before indexing instead.",
     "output_type": "error",
     "traceback": [
      "\u001b[0;31m---------------------------------------------------------------------------\u001b[0m",
      "\u001b[0;31mValueError\u001b[0m                                Traceback (most recent call last)",
      "Cell \u001b[0;32mIn[14], line 6\u001b[0m\n\u001b[1;32m      4\u001b[0m fs\u001b[39m.\u001b[39mselect(selected_features)\n\u001b[1;32m      5\u001b[0m fs\u001b[39m.\u001b[39mimpute()\n\u001b[0;32m----> 6\u001b[0m fs\u001b[39m.\u001b[39;49mvisualise(plot_type\u001b[39m=\u001b[39;49m\u001b[39m'\u001b[39;49m\u001b[39mkdeplot\u001b[39;49m\u001b[39m'\u001b[39;49m)\n\u001b[1;32m      7\u001b[0m fs\u001b[39m.\u001b[39mvisualise(plot_type\u001b[39m=\u001b[39m\u001b[39m'\u001b[39m\u001b[39mpairplot\u001b[39m\u001b[39m'\u001b[39m)\n\u001b[1;32m      8\u001b[0m Utilities\u001b[39m.\u001b[39msave_dataframe(fs\u001b[39m.\u001b[39mselected_features_ECG, \u001b[39m'\u001b[39m\u001b[39mData/Spider/Dataframes\u001b[39m\u001b[39m'\u001b[39m, \u001b[39m'\u001b[39m\u001b[39mFeature Selected\u001b[39m\u001b[39m'\u001b[39m)\n",
      "Cell \u001b[0;32mIn[12], line 52\u001b[0m, in \u001b[0;36mFeatureSelection.visualise\u001b[0;34m(self, plot_type)\u001b[0m\n\u001b[1;32m     50\u001b[0m     \u001b[39mfor\u001b[39;00m i, feature \u001b[39min\u001b[39;00m \u001b[39menumerate\u001b[39m(\u001b[39mself\u001b[39m\u001b[39m.\u001b[39mselected_features_ECG):\n\u001b[1;32m     51\u001b[0m         fig\u001b[39m.\u001b[39madd_subplot(subplot_size, subplot_size, i\u001b[39m+\u001b[39m\u001b[39m1\u001b[39m)\n\u001b[0;32m---> 52\u001b[0m         sns\u001b[39m.\u001b[39;49mkdeplot(x\u001b[39m=\u001b[39;49mfeature, data\u001b[39m=\u001b[39;49m\u001b[39mself\u001b[39;49m\u001b[39m.\u001b[39;49mselected_features_ECG, hue\u001b[39m=\u001b[39;49m\u001b[39m'\u001b[39;49m\u001b[39mStress Level\u001b[39;49m\u001b[39m'\u001b[39;49m, common_norm\u001b[39m=\u001b[39;49m\u001b[39mFalse\u001b[39;49;00m, warn_singular\u001b[39m=\u001b[39;49m\u001b[39mFalse\u001b[39;49;00m, palette\u001b[39m=\u001b[39;49m[\u001b[39m'\u001b[39;49m\u001b[39mgreen\u001b[39;49m\u001b[39m'\u001b[39;49m, \u001b[39m'\u001b[39;49m\u001b[39myellow\u001b[39;49m\u001b[39m'\u001b[39;49m, \u001b[39m'\u001b[39;49m\u001b[39mred\u001b[39;49m\u001b[39m'\u001b[39;49m])\n\u001b[1;32m     53\u001b[0m     plt\u001b[39m.\u001b[39mshow()\n\u001b[1;32m     54\u001b[0m \u001b[39melse\u001b[39;00m:\n",
      "File \u001b[0;32m~/.local/lib/python3.8/site-packages/seaborn/distributions.py:1717\u001b[0m, in \u001b[0;36mkdeplot\u001b[0;34m(data, x, y, hue, weights, palette, hue_order, hue_norm, color, fill, multiple, common_norm, common_grid, cumulative, bw_method, bw_adjust, warn_singular, log_scale, levels, thresh, gridsize, cut, clip, legend, cbar, cbar_ax, cbar_kws, ax, **kwargs)\u001b[0m\n\u001b[1;32m   1713\u001b[0m \u001b[39mif\u001b[39;00m p\u001b[39m.\u001b[39munivariate:\n\u001b[1;32m   1715\u001b[0m     plot_kws \u001b[39m=\u001b[39m kwargs\u001b[39m.\u001b[39mcopy()\n\u001b[0;32m-> 1717\u001b[0m     p\u001b[39m.\u001b[39;49mplot_univariate_density(\n\u001b[1;32m   1718\u001b[0m         multiple\u001b[39m=\u001b[39;49mmultiple,\n\u001b[1;32m   1719\u001b[0m         common_norm\u001b[39m=\u001b[39;49mcommon_norm,\n\u001b[1;32m   1720\u001b[0m         common_grid\u001b[39m=\u001b[39;49mcommon_grid,\n\u001b[1;32m   1721\u001b[0m         fill\u001b[39m=\u001b[39;49mfill,\n\u001b[1;32m   1722\u001b[0m         color\u001b[39m=\u001b[39;49mcolor,\n\u001b[1;32m   1723\u001b[0m         legend\u001b[39m=\u001b[39;49mlegend,\n\u001b[1;32m   1724\u001b[0m         warn_singular\u001b[39m=\u001b[39;49mwarn_singular,\n\u001b[1;32m   1725\u001b[0m         estimate_kws\u001b[39m=\u001b[39;49mestimate_kws,\n\u001b[1;32m   1726\u001b[0m         \u001b[39m*\u001b[39;49m\u001b[39m*\u001b[39;49mplot_kws,\n\u001b[1;32m   1727\u001b[0m     )\n\u001b[1;32m   1729\u001b[0m \u001b[39melse\u001b[39;00m:\n\u001b[1;32m   1731\u001b[0m     p\u001b[39m.\u001b[39mplot_bivariate_density(\n\u001b[1;32m   1732\u001b[0m         common_norm\u001b[39m=\u001b[39mcommon_norm,\n\u001b[1;32m   1733\u001b[0m         fill\u001b[39m=\u001b[39mfill,\n\u001b[0;32m   (...)\u001b[0m\n\u001b[1;32m   1743\u001b[0m         \u001b[39m*\u001b[39m\u001b[39m*\u001b[39mkwargs,\n\u001b[1;32m   1744\u001b[0m     )\n",
      "File \u001b[0;32m~/.local/lib/python3.8/site-packages/seaborn/distributions.py:999\u001b[0m, in \u001b[0;36m_DistributionPlotter.plot_univariate_density\u001b[0;34m(self, multiple, common_norm, common_grid, warn_singular, fill, color, legend, estimate_kws, **plot_kws)\u001b[0m\n\u001b[1;32m    996\u001b[0m     artist \u001b[39m=\u001b[39m ax\u001b[39m.\u001b[39mfill_between(support, fill_from, density, \u001b[39m*\u001b[39m\u001b[39m*\u001b[39martist_kws)\n\u001b[1;32m    998\u001b[0m \u001b[39melse\u001b[39;00m:\n\u001b[0;32m--> 999\u001b[0m     artist, \u001b[39m=\u001b[39m ax\u001b[39m.\u001b[39;49mplot(support, density, \u001b[39m*\u001b[39;49m\u001b[39m*\u001b[39;49martist_kws)\n\u001b[1;32m   1001\u001b[0m artist\u001b[39m.\u001b[39msticky_edges\u001b[39m.\u001b[39mx[:] \u001b[39m=\u001b[39m sticky_support\n\u001b[1;32m   1002\u001b[0m artist\u001b[39m.\u001b[39msticky_edges\u001b[39m.\u001b[39my[:] \u001b[39m=\u001b[39m sticky_density\n",
      "File \u001b[0;32m/usr/lib/python3/dist-packages/matplotlib/axes/_axes.py:1665\u001b[0m, in \u001b[0;36mAxes.plot\u001b[0;34m(self, scalex, scaley, data, *args, **kwargs)\u001b[0m\n\u001b[1;32m   1434\u001b[0m \u001b[39m\u001b[39m\u001b[39m\"\"\"\u001b[39;00m\n\u001b[1;32m   1435\u001b[0m \u001b[39mPlot y versus x as lines and/or markers.\u001b[39;00m\n\u001b[1;32m   1436\u001b[0m \n\u001b[0;32m   (...)\u001b[0m\n\u001b[1;32m   1662\u001b[0m \u001b[39m(``'green'``) or hex strings (``'#008000'``).\u001b[39;00m\n\u001b[1;32m   1663\u001b[0m \u001b[39m\"\"\"\u001b[39;00m\n\u001b[1;32m   1664\u001b[0m kwargs \u001b[39m=\u001b[39m cbook\u001b[39m.\u001b[39mnormalize_kwargs(kwargs, mlines\u001b[39m.\u001b[39mLine2D\u001b[39m.\u001b[39m_alias_map)\n\u001b[0;32m-> 1665\u001b[0m lines \u001b[39m=\u001b[39m [\u001b[39m*\u001b[39m\u001b[39mself\u001b[39m\u001b[39m.\u001b[39m_get_lines(\u001b[39m*\u001b[39margs, data\u001b[39m=\u001b[39mdata, \u001b[39m*\u001b[39m\u001b[39m*\u001b[39mkwargs)]\n\u001b[1;32m   1666\u001b[0m \u001b[39mfor\u001b[39;00m line \u001b[39min\u001b[39;00m lines:\n\u001b[1;32m   1667\u001b[0m     \u001b[39mself\u001b[39m\u001b[39m.\u001b[39madd_line(line)\n",
      "File \u001b[0;32m/usr/lib/python3/dist-packages/matplotlib/axes/_base.py:225\u001b[0m, in \u001b[0;36m_process_plot_var_args.__call__\u001b[0;34m(self, *args, **kwargs)\u001b[0m\n\u001b[1;32m    223\u001b[0m     this \u001b[39m+\u001b[39m\u001b[39m=\u001b[39m args[\u001b[39m0\u001b[39m],\n\u001b[1;32m    224\u001b[0m     args \u001b[39m=\u001b[39m args[\u001b[39m1\u001b[39m:]\n\u001b[0;32m--> 225\u001b[0m \u001b[39myield from\u001b[39;00m \u001b[39mself\u001b[39;49m\u001b[39m.\u001b[39;49m_plot_args(this, kwargs)\n",
      "File \u001b[0;32m/usr/lib/python3/dist-packages/matplotlib/axes/_base.py:386\u001b[0m, in \u001b[0;36m_process_plot_var_args._plot_args\u001b[0;34m(self, tup, kwargs)\u001b[0m\n\u001b[1;32m    383\u001b[0m         kw[k] \u001b[39m=\u001b[39m v\n\u001b[1;32m    385\u001b[0m \u001b[39mif\u001b[39;00m \u001b[39mlen\u001b[39m(tup) \u001b[39m==\u001b[39m \u001b[39m2\u001b[39m:\n\u001b[0;32m--> 386\u001b[0m     x \u001b[39m=\u001b[39m _check_1d(tup[\u001b[39m0\u001b[39;49m])\n\u001b[1;32m    387\u001b[0m     y \u001b[39m=\u001b[39m _check_1d(tup[\u001b[39m-\u001b[39m\u001b[39m1\u001b[39m])\n\u001b[1;32m    388\u001b[0m \u001b[39melse\u001b[39;00m:\n",
      "File \u001b[0;32m/usr/lib/python3/dist-packages/matplotlib/cbook/__init__.py:1402\u001b[0m, in \u001b[0;36m_check_1d\u001b[0;34m(x)\u001b[0m\n\u001b[1;32m   1400\u001b[0m \u001b[39melse\u001b[39;00m:\n\u001b[1;32m   1401\u001b[0m     \u001b[39mtry\u001b[39;00m:\n\u001b[0;32m-> 1402\u001b[0m         ndim \u001b[39m=\u001b[39m x[:, \u001b[39mNone\u001b[39;49;00m]\u001b[39m.\u001b[39mndim\n\u001b[1;32m   1403\u001b[0m         \u001b[39m# work around https://github.com/pandas-dev/pandas/issues/27775\u001b[39;00m\n\u001b[1;32m   1404\u001b[0m         \u001b[39m# which mean the shape is not as expected. That this ever worked\u001b[39;00m\n\u001b[1;32m   1405\u001b[0m         \u001b[39m# was an unintentional quirk of pandas the above line will raise\u001b[39;00m\n\u001b[1;32m   1406\u001b[0m         \u001b[39m# an exception in the future.\u001b[39;00m\n\u001b[1;32m   1407\u001b[0m         \u001b[39mif\u001b[39;00m ndim \u001b[39m<\u001b[39m \u001b[39m2\u001b[39m:\n",
      "File \u001b[0;32m~/.local/lib/python3.8/site-packages/pandas/core/indexes/base.py:5198\u001b[0m, in \u001b[0;36mIndex.__getitem__\u001b[0;34m(self, key)\u001b[0m\n\u001b[1;32m   5196\u001b[0m \u001b[39m# Because we ruled out integer above, we always get an arraylike here\u001b[39;00m\n\u001b[1;32m   5197\u001b[0m \u001b[39mif\u001b[39;00m result\u001b[39m.\u001b[39mndim \u001b[39m>\u001b[39m \u001b[39m1\u001b[39m:\n\u001b[0;32m-> 5198\u001b[0m     disallow_ndim_indexing(result)\n\u001b[1;32m   5200\u001b[0m \u001b[39m# NB: Using _constructor._simple_new would break if MultiIndex\u001b[39;00m\n\u001b[1;32m   5201\u001b[0m \u001b[39m#  didn't override __getitem__\u001b[39;00m\n\u001b[1;32m   5202\u001b[0m \u001b[39mreturn\u001b[39;00m \u001b[39mself\u001b[39m\u001b[39m.\u001b[39m_constructor\u001b[39m.\u001b[39m_simple_new(result, name\u001b[39m=\u001b[39m\u001b[39mself\u001b[39m\u001b[39m.\u001b[39m_name)\n",
      "File \u001b[0;32m~/.local/lib/python3.8/site-packages/pandas/core/indexers/utils.py:343\u001b[0m, in \u001b[0;36mdisallow_ndim_indexing\u001b[0;34m(result)\u001b[0m\n\u001b[1;32m    335\u001b[0m \u001b[39m\u001b[39m\u001b[39m\"\"\"\u001b[39;00m\n\u001b[1;32m    336\u001b[0m \u001b[39mHelper function to disallow multi-dimensional indexing on 1D Series/Index.\u001b[39;00m\n\u001b[1;32m    337\u001b[0m \n\u001b[0;32m   (...)\u001b[0m\n\u001b[1;32m    340\u001b[0m \u001b[39min GH#30588.\u001b[39;00m\n\u001b[1;32m    341\u001b[0m \u001b[39m\"\"\"\u001b[39;00m\n\u001b[1;32m    342\u001b[0m \u001b[39mif\u001b[39;00m np\u001b[39m.\u001b[39mndim(result) \u001b[39m>\u001b[39m \u001b[39m1\u001b[39m:\n\u001b[0;32m--> 343\u001b[0m     \u001b[39mraise\u001b[39;00m \u001b[39mValueError\u001b[39;00m(\n\u001b[1;32m    344\u001b[0m         \u001b[39m\"\u001b[39m\u001b[39mMulti-dimensional indexing (e.g. `obj[:, None]`) is no longer \u001b[39m\u001b[39m\"\u001b[39m\n\u001b[1;32m    345\u001b[0m         \u001b[39m\"\u001b[39m\u001b[39msupported. Convert to a numpy array before indexing instead.\u001b[39m\u001b[39m\"\u001b[39m\n\u001b[1;32m    346\u001b[0m     )\n",
      "\u001b[0;31mValueError\u001b[0m: Multi-dimensional indexing (e.g. `obj[:, None]`) is no longer supported. Convert to a numpy array before indexing instead."
     ]
    },
    {
     "data": {
      "image/png": "[encoded data removed]",
      "text/plain": [
       "<Figure size 2000x2400 with 2 Axes>"
      ]
     },
     "metadata": {},
     "output_type": "display_data"
    }
   ],
   "source": [
    "fs = FeatureSelection(fe.feature_extracted_ECG)\n",
    "# desired features for classification\n",
    "selected_features = [HRV_MinNN, HRV_MaxNN, HRV_MeanNN, HRV_SDNN, HRV_RMSSD, HRV_SE, HRV_pNN20, HRV_pNN50]\n",
    "fs.select(selected_features)\n",
    "fs.impute()\n",
    "fs.visualise(plot_type='kdeplot')\n",
    "fs.visualise(plot_type='pairplot')\n",
    "Utilities.save_dataframe(fs.selected_features_ECG, 'Data/Spider/Dataframes', 'Feature Selected')"
   ]
  },
  {
   "attachments": {},
   "cell_type": "markdown",
   "metadata": {},
   "source": [
    "## 7. Linear Classification\n",
    "* Prepares data by randomly splitting data into train, test and validation data\n",
    "* Option for Linear Discriminant Analysis (LDA) for dimension reduction\n",
    "* Implements the following classification models, with methods for tuning: LDA, Random Forests"
   ]
  },
  {
   "cell_type": "code",
   "execution_count": null,
   "metadata": {},
   "outputs": [],
   "source": [
    "# Utilities for preparing and evaluating classification\n",
    "class ML_Utilities():\n",
    "    def __init__(self):\n",
    "        pass\n",
    "\n",
    "\n",
    "    # randomizes, standardizes, and splits into test and training data.\n",
    "    def prepare(selected_features_ECG:pd.DataFrame, train_split:float, validation_split:float, LDA_dimension_reduction:bool=False):       \n",
    "        label = selected_features_ECG['Stress Level']\n",
    "        features = selected_features_ECG.loc[:, selected_features_ECG.columns != 'Stress Level']\n",
    "\n",
    "        # split into test, training and validation data (hold-out validation)\n",
    "        X_train, X_test, y_train, y_test = train_test_split(features, label, train_size=train_split, test_size=1-train_split, random_state=15)\n",
    "        X_train, X_valid, y_train, y_valid = train_test_split(X_train, y_train, train_size = 1-validation_split, test_size=validation_split, random_state=15)\n",
    "        \n",
    "        # scale \n",
    "        sc = StandardScaler()\n",
    "        X_train = sc.fit_transform(X_train)\n",
    "        X_test = sc.transform(X_test)\n",
    "\n",
    "        # LDA for dimension reduction creates new train and test data\n",
    "        if LDA_dimension_reduction:\n",
    "            lda = LinearDiscriminantAnalysis()\n",
    "            X_train = lda.fit_transform(X_train, y_train)\n",
    "            X_test = lda.transform(X_test)\n",
    "            X_valid = lda.transform(X_valid)\n",
    "\n",
    "        return X_test, y_test, X_train, y_train, X_valid, y_valid\n",
    "\n",
    "\n",
    "    def plot_confustion_matrix(y_test, y_pred):\n",
    "        # Confusion Matrix\n",
    "        ConfusionMatrixDisplay.from_predictions(y_test, y_pred, display_labels=['Negative', 'Positive'])"
   ]
  },
  {
   "cell_type": "code",
   "execution_count": null,
   "metadata": {
    "execution": {
     "iopub.execute_input": "2023-03-28T14:15:57.678855Z",
     "iopub.status.busy": "2023-03-28T14:15:57.678628Z",
     "iopub.status.idle": "2023-03-28T14:15:57.685391Z",
     "shell.execute_reply": "2023-03-28T14:15:57.685101Z"
    }
   },
   "outputs": [],
   "source": [
    "# Define LinearML method, which implements different linear classification methods\n",
    "class Linear_ML():\n",
    "    def __init__(self, X_train, y_train, X_test, y_test, X_valid, y_valid):\n",
    "        self.X_train = X_train\n",
    "        self.y_train = y_train\n",
    "        self.X_test = X_test\n",
    "        self.y_test = y_test\n",
    "        self.X_valid = X_valid\n",
    "        self.y_valid = y_valid\n",
    "\n",
    "\n",
    "    # LDA classification\n",
    "    def LDA_classifier(self):\n",
    "        clf1 = LinearDiscriminantAnalysis(solver='lsqr', shrinkage=0.5).fit(self.X_train, self.y_train)\n",
    "        clf2 = LinearDiscriminantAnalysis(solver='lsqr', shrinkage=None).fit(self.X_train, self.y_train)\n",
    "\n",
    "        clf1_score = clf1.score(self.X_test, self.y_test)\n",
    "        clf2_score = clf2.score(self.X_test, self.y_test)\n",
    "\n",
    "        print(f'Score for CLF1: {clf1_score}')\n",
    "        print(f'Score for CLF2: {clf2_score}')\n",
    "        \n",
    "\n",
    "    # Tuning Random Forest\n",
    "    def rf_tuner(self):\n",
    "        n_estimators = 100\n",
    "        max_features = [1, 'sqrt', 'log2']\n",
    "        max_depths = [None, 2, 3, 4, 5]\n",
    "        for f, d in product(max_features, max_depths): # with product we can iterate through all possible combinations\n",
    "            rf = RandomForestClassifier(n_estimators=n_estimators, \n",
    "                                        criterion='entropy', \n",
    "                                        max_features=f, \n",
    "                                        max_depth=d, \n",
    "                                        n_jobs=-1,\n",
    "                                        random_state=1337)\n",
    "            rf.fit(self.X_train, self.y_train)\n",
    "            self.y_pred = rf.predict(X=self.X_test)\n",
    "            print('Classification accuracy on test set with max features = {} and max_depth = {}: {:.3f}'.format(f, d, accuracy_score(self.y_test,self.y_pred)))\n",
    "            ML_Utilities.plot_confustion_matrix(self.y_test, self.y_pred)\n",
    "\n",
    "\n",
    "    # Post-tuned Random Forests Classifier\n",
    "    def rf_classifier(self):\n",
    "        # source: https://scikit-learn.org/stable/modules/generated/sklearn.ensemble.RandomForestClassifier.html\n",
    "        rf = RandomForestClassifier(n_estimators=100, criterion='entropy')\n",
    "        rf.fit(self.X_train, self.y_train)\n",
    "        self.y_pred = rf.predict(X=self.X_test)\n",
    "\n",
    "        # Accuracy on Test\n",
    "        print(\"Training Accuracy is: \", rf.score(self.X_train, self.y_train))\n",
    "        # Accuracy on Train\n",
    "        print(\"Testing Accuracy is: \", rf.score(self.X_test, self.y_test))\n",
    "\n",
    "        self.plot_confustion_matrix()\n",
    "\n",
    "    \n",
    "        # main method to conduct LDA\n",
    "    def model(self, classification_type):\n",
    "        classification_types = {\n",
    "            \"LDA\": self.LDA_classifier,\n",
    "            \"RF\": self.rf_classifier\n",
    "        }\n",
    "        classification_types.get(classification_type, lambda: print(\"Invalid model. Please enter LDA, RF\"))()        \n"
   ]
  },
  {
   "cell_type": "code",
   "execution_count": null,
   "metadata": {
    "execution": {
     "iopub.execute_input": "2023-03-28T14:15:57.686647Z",
     "iopub.status.busy": "2023-03-28T14:15:57.686556Z",
     "iopub.status.idle": "2023-03-28T14:15:58.903839Z",
     "shell.execute_reply": "2023-03-28T14:15:58.903584Z"
    }
   },
   "outputs": [
    {
     "ename": "TypeError",
     "evalue": "ML_Utilities.prepare() got multiple values for argument 'train_split'",
     "output_type": "error",
     "traceback": [
      "\u001b[1;31m---------------------------------------------------------------------------\u001b[0m",
      "\u001b[1;31mTypeError\u001b[0m                                 Traceback (most recent call last)",
      "Cell \u001b[1;32mIn[22], line 4\u001b[0m\n\u001b[0;32m      1\u001b[0m selected_features_ECG \u001b[39m=\u001b[39m Utilities\u001b[39m.\u001b[39mload_dataframe(\u001b[39m'\u001b[39m\u001b[39mData/Spider/Dataframes/Feature Selected.csv\u001b[39m\u001b[39m'\u001b[39m)\n\u001b[0;32m      2\u001b[0m mlu \u001b[39m=\u001b[39m ML_Utilities()\n\u001b[1;32m----> 4\u001b[0m X_test, y_test, X_train, y_train, X_valid, y_valid \u001b[39m=\u001b[39m mlu\u001b[39m.\u001b[39;49mprepare(selected_features_ECG, train_split\u001b[39m=\u001b[39;49m\u001b[39m0.70\u001b[39;49m, validation_split\u001b[39m=\u001b[39;49m\u001b[39m0.50\u001b[39;49m)\n\u001b[0;32m      6\u001b[0m lml \u001b[39m=\u001b[39m Linear_ML(X_test, y_test, X_train, y_train, X_valid, y_valid)\n\u001b[0;32m      7\u001b[0m lml\u001b[39m.\u001b[39mrf_tuner()\n",
      "\u001b[1;31mTypeError\u001b[0m: ML_Utilities.prepare() got multiple values for argument 'train_split'"
     ]
    }
   ],
   "source": [
    "selected_features_ECG = Utilities.load_dataframe('Data/Spider/Dataframes/Feature Selected.csv')\n",
    "mlu = ML_Utilities()\n",
    "\n",
    "X_test, y_test, X_train, y_train, X_valid, y_valid = mlu.prepare(selected_features_ECG, train_split=0.70, validation_split=0.50)\n",
    "\n",
    "lml = Linear_ML(X_test, y_test, X_train, y_train, X_valid, y_valid)\n",
    "lml.rf_tuner()"
   ]
  }
 ],
 "metadata": {
  "kernelspec": {
   "display_name": "Python 3 (ipykernel)",
   "language": "python",
   "name": "python3"
  },
  "language_info": {
   "codemirror_mode": {
    "name": "ipython",
    "version": 3
   },
   "file_extension": ".py",
   "mimetype": "text/x-python",
   "name": "python",
   "nbconvert_exporter": "python",
   "pygments_lexer": "ipython3",
   "version": "3.8.10"
  }
 },
 "nbformat": 4,
 "nbformat_minor": 2
}
